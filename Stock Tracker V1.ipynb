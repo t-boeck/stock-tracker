{
 "cells": [
  {
   "cell_type": "code",
   "execution_count": 1,
   "id": "256f6da5",
   "metadata": {},
   "outputs": [],
   "source": [
    "import numpy as np\n",
    "import pandas as pd\n",
    "\n",
    "#Data Source\n",
    "import yfinance as yf\n",
    "\n",
    "#Display\n",
    "import ipywidgets as widgets\n",
    "import plotly.graph_objs as go"
   ]
  },
  {
   "cell_type": "code",
   "execution_count": 2,
   "id": "1d65bfe5",
   "metadata": {},
   "outputs": [],
   "source": [
    "out_pl = widgets.Output()"
   ]
  },
  {
   "cell_type": "code",
   "execution_count": 15,
   "id": "7d3318cd",
   "metadata": {},
   "outputs": [],
   "source": [
    "def analyze(change):\n",
    "    \n",
    "    #clear_output()\n",
    "    out_pl.clear_output(wait=True)\n",
    "    \n",
    "    if ticker_box.value == \"\":\n",
    "        return\n",
    "    \n",
    "    #Set parameters\n",
    "    ticker = ticker_box.value\n",
    "    period = '1d'\n",
    "    interval = '1m'\n",
    "    mov_avg_window=21\n",
    "    \n",
    "    #Download data\n",
    "    data = yf.download(tickers=ticker, period=period, interval=interval, \n",
    "                           progress=False, show_errors=False)\n",
    "    if data.empty:\n",
    "        with out_pl: print(f\"{ticker_box.value} data failed to download, please try again.\")\n",
    "        return\n",
    "    \n",
    "    data.index = data.index.tz_convert('America/Los_Angeles')\n",
    "    \n",
    "    #Calculate Moving Average and Ballinger Bands\n",
    "    mov_avg_title = str(mov_avg_window) + 'd Moving Avg'\n",
    "    data[mov_avg_title] = data['Close'].rolling(window=mov_avg_window).mean()\n",
    "    data['Upper Band'] = data[mov_avg_title] + 1.96*data['Close'].rolling(window=mov_avg_window).std()\n",
    "    data['Lower Band'] = data[mov_avg_title] - 1.96*data['Close'].rolling(window=mov_avg_window).std()\n",
    "    \n",
    "    #declare figure\n",
    "    fig = go.Figure()\n",
    "\n",
    "    fig.add_trace(go.Scatter(x=data.index, y= data[mov_avg_title],\n",
    "                             line=dict(color='blue', width=.7), \n",
    "                             name = mov_avg_title))\n",
    "    fig.add_trace(go.Scatter(x=data.index, y= data['Upper Band'],\n",
    "                             line=dict(color='red', width=1.5), \n",
    "                             name = 'Upper Band (Sell)'))\n",
    "    fig.add_trace(go.Scatter(x=data.index, y= data['Lower Band'],\n",
    "                             line=dict(color='green', width=1.5), \n",
    "                             name = 'Lower Band (Buy)'))\n",
    "\n",
    "    #Candlestick\n",
    "    fig.add_trace(go.Candlestick(x=data.index,\n",
    "                    open=data['Open'],\n",
    "                    high=data['High'],\n",
    "                    low=data['Low'],\n",
    "                    close=data['Close'], name = 'market data'))\n",
    "\n",
    "    # Add titles\n",
    "    fig.update_layout(\n",
    "        title=ticker.upper(),\n",
    "        yaxis_title='Stock Price')\n",
    "\n",
    "    # X-Axes\n",
    "    fig.update_xaxes(\n",
    "        rangeslider_visible=True,\n",
    "        rangeselector=dict(\n",
    "            buttons=list([\n",
    "                dict(count=15, label=\"15m\", step=\"minute\", stepmode=\"backward\"),\n",
    "                dict(count=45, label=\"45m\", step=\"minute\", stepmode=\"backward\"),\n",
    "                dict(count=3, label=\"3h\", step=\"hour\", stepmode=\"backward\"),\n",
    "                dict(label=period, step=\"all\")\n",
    "            ])\n",
    "        )\n",
    "    )\n",
    "\n",
    "    #Show\n",
    "    with out_pl: \n",
    "        #print('test')\n",
    "        fig.show()"
   ]
  },
  {
   "cell_type": "code",
   "execution_count": 16,
   "id": "1966b1dc",
   "metadata": {},
   "outputs": [],
   "source": [
    "ticker_box = widgets.Text(\n",
    "    value='',\n",
    "    placeholder='e.g. AAPL, TQQQ',\n",
    "    disabled=False\n",
    ")"
   ]
  },
  {
   "cell_type": "code",
   "execution_count": 17,
   "id": "d596e254",
   "metadata": {},
   "outputs": [],
   "source": [
    "analyze_button = widgets.Button(\n",
    "    description='Analyze',\n",
    "    disabled=False,\n",
    "    button_style='', # 'success', 'info', 'warning', 'danger' or ''\n",
    ")\n",
    "\n",
    "analyze_button.on_click(analyze)"
   ]
  },
  {
   "cell_type": "code",
   "execution_count": 18,
   "id": "491875fc",
   "metadata": {
    "scrolled": true
   },
   "outputs": [
    {
     "data": {
      "application/vnd.jupyter.widget-view+json": {
       "model_id": "676db1b6293a4379bfe1328b94507b90",
       "version_major": 2,
       "version_minor": 0
      },
      "text/plain": [
       "VBox(children=(Label(value='Enter Ticker'), Text(value='', placeholder='e.g. AAPL, TQQQ'), Button(description=…"
      ]
     },
     "metadata": {},
     "output_type": "display_data"
    }
   ],
   "source": [
    "widgets.VBox([widgets.Label('Enter Ticker'), \n",
    "    ticker_box, \n",
    "    analyze_button,\n",
    "    out_pl])"
   ]
  }
 ],
 "metadata": {
  "kernelspec": {
   "display_name": "Python 3",
   "language": "python",
   "name": "python3"
  },
  "language_info": {
   "codemirror_mode": {
    "name": "ipython",
    "version": 3
   },
   "file_extension": ".py",
   "mimetype": "text/x-python",
   "name": "python",
   "nbconvert_exporter": "python",
   "pygments_lexer": "ipython3",
   "version": "3.8.5"
  }
 },
 "nbformat": 4,
 "nbformat_minor": 5
}
