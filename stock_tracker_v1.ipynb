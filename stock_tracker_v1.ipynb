{
 "cells": [
  {
   "cell_type": "code",
   "execution_count": 1,
   "id": "c772d6fa",
   "metadata": {},
   "outputs": [],
   "source": [
    "import numpy as np\n",
    "import pandas as pd\n",
    "import os\n",
    "import random\n",
    "\n",
    "#Data Source\n",
    "import yfinance as yf\n",
    "\n",
    "#Display\n",
    "import ipywidgets as widgets\n",
    "from IPython.display import Image\n",
    "import plotly.graph_objs as go"
   ]
  },
  {
   "cell_type": "code",
   "execution_count": 2,
   "id": "76372d60",
   "metadata": {},
   "outputs": [],
   "source": [
    "out_pl = widgets.Output()"
   ]
  },
  {
   "cell_type": "code",
   "execution_count": 3,
   "id": "c3381e5a",
   "metadata": {},
   "outputs": [],
   "source": [
    "def analyze(change):\n",
    "    \n",
    "    out_pl.clear_output()\n",
    "    \n",
    "    if ticker_box.value == \"\":\n",
    "        return\n",
    "    \n",
    "    #Set parameters\n",
    "    ticker = ticker_box.value\n",
    "    period = '1d'\n",
    "    interval = '1m'\n",
    "    mov_avg_window=21\n",
    "    \n",
    "    #Download data\n",
    "    data = yf.download(tickers=ticker, period=period, interval=interval, \n",
    "                           progress=False, show_errors=False)\n",
    "    if data.empty:\n",
    "        with out_pl: print(f\"{ticker_box.value} data failed to download, please try again.\")\n",
    "        return\n",
    "    \n",
    "    data.index = data.index.tz_convert('America/Los_Angeles')\n",
    "    \n",
    "    #Calculate Moving Average and Ballinger Bands\n",
    "    mov_avg_title = str(mov_avg_window) + 'd Moving Avg'\n",
    "    data[mov_avg_title] = data['Close'].rolling(window=mov_avg_window).mean()\n",
    "    data['Upper Band'] = data[mov_avg_title] + 1.96*data['Close'].rolling(window=mov_avg_window).std()\n",
    "    data['Lower Band'] = data[mov_avg_title] - 1.96*data['Close'].rolling(window=mov_avg_window).std()\n",
    "    \n",
    "    #declare figure\n",
    "    fig = go.Figure()\n",
    "\n",
    "    fig.add_trace(go.Scatter(x=data.index, y= data[mov_avg_title],\n",
    "                             line=dict(color='blue', width=.7), \n",
    "                             name = mov_avg_title))\n",
    "    fig.add_trace(go.Scatter(x=data.index, y= data['Upper Band'],\n",
    "                             line=dict(color='red', width=1.5), \n",
    "                             name = 'Upper Band (Sell)'))\n",
    "    fig.add_trace(go.Scatter(x=data.index, y= data['Lower Band'],\n",
    "                             line=dict(color='green', width=1.5), \n",
    "                             name = 'Lower Band (Buy)'))\n",
    "\n",
    "    #Candlestick\n",
    "    fig.add_trace(go.Candlestick(x=data.index,\n",
    "                    open=data['Open'],\n",
    "                    high=data['High'],\n",
    "                    low=data['Low'],\n",
    "                    close=data['Close'], name = 'market data'))\n",
    "\n",
    "    # Add titles\n",
    "    fig.update_layout(\n",
    "        title=ticker.upper(),\n",
    "        yaxis_title='Stock Price')\n",
    "\n",
    "    # X-Axes\n",
    "    fig.update_xaxes(\n",
    "        rangeslider_visible=True,\n",
    "        rangeselector=dict(\n",
    "            buttons=list([\n",
    "                dict(count=15, label=\"15m\", step=\"minute\", stepmode=\"backward\"),\n",
    "                dict(count=45, label=\"45m\", step=\"minute\", stepmode=\"backward\"),\n",
    "                dict(count=3, label=\"3h\", step=\"hour\", stepmode=\"backward\"),\n",
    "                dict(label=period, step=\"all\")\n",
    "            ])\n",
    "        )\n",
    "    )\n",
    "\n",
    "    #Select random buy gif\n",
    "    buy_path = 'assets/buy/'\n",
    "    files=os.listdir(buy_path)\n",
    "    \n",
    "    #Display\n",
    "    with out_pl: \n",
    "        display(Image(filename=buy_path + random.choice(files)))\n",
    "        fig.show()"
   ]
  },
  {
   "cell_type": "code",
   "execution_count": 4,
   "id": "9fe4103b",
   "metadata": {},
   "outputs": [],
   "source": [
    "ticker_box = widgets.Text(\n",
    "    value='',\n",
    "    placeholder='e.g. AAPL, TQQQ',\n",
    "    disabled=False\n",
    ")"
   ]
  },
  {
   "cell_type": "code",
   "execution_count": 5,
   "id": "d0aedfa3",
   "metadata": {},
   "outputs": [],
   "source": [
    "analyze_button = widgets.Button(\n",
    "    description='Analyze',\n",
    "    disabled=False,\n",
    "    button_style='', # 'success', 'info', 'warning', 'danger' or ''\n",
    ")\n",
    "\n",
    "analyze_button.on_click(analyze)"
   ]
  },
  {
   "cell_type": "code",
   "execution_count": 6,
   "id": "db2bc818",
   "metadata": {
    "scrolled": true
   },
   "outputs": [
    {
     "data": {
      "application/vnd.jupyter.widget-view+json": {
       "model_id": "2cf96ead1be944be8f0d421a48a49a05",
       "version_major": 2,
       "version_minor": 0
      },
      "text/plain": [
       "VBox(children=(Label(value='Enter Ticker'), Text(value='', placeholder='e.g. AAPL, TQQQ'), Button(description=…"
      ]
     },
     "metadata": {},
     "output_type": "display_data"
    }
   ],
   "source": [
    "widgets.VBox([widgets.Label('Enter Ticker'), \n",
    "    ticker_box, \n",
    "    analyze_button,\n",
    "    out_pl])"
   ]
  },
  {
   "cell_type": "code",
   "execution_count": null,
   "id": "ac351666",
   "metadata": {},
   "outputs": [],
   "source": []
  },
  {
   "cell_type": "code",
   "execution_count": null,
   "id": "7b4ce521",
   "metadata": {},
   "outputs": [],
   "source": []
  }
 ],
 "metadata": {
  "kernelspec": {
   "display_name": "Python 3",
   "language": "python",
   "name": "python3"
  },
  "language_info": {
   "codemirror_mode": {
    "name": "ipython",
    "version": 3
   },
   "file_extension": ".py",
   "mimetype": "text/x-python",
   "name": "python",
   "nbconvert_exporter": "python",
   "pygments_lexer": "ipython3",
   "version": "3.8.5"
  }
 },
 "nbformat": 4,
 "nbformat_minor": 5
}
